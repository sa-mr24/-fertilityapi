{
  "nbformat": 4,
  "nbformat_minor": 0,
  "metadata": {
    "colab": {
      "provenance": [],
      "authorship_tag": "ABX9TyPiTEv2E9DA7UtfnHH7p0jL",
      "include_colab_link": true
    },
    "kernelspec": {
      "name": "python3",
      "display_name": "Python 3"
    },
    "language_info": {
      "name": "python"
    }
  },
  "cells": [
    {
      "cell_type": "markdown",
      "metadata": {
        "id": "view-in-github",
        "colab_type": "text"
      },
      "source": [
        "<a href=\"https://colab.research.google.com/github/sa-mr24/-fertilityapi/blob/main/Untitled8.ipynb\" target=\"_parent\"><img src=\"https://colab.research.google.com/assets/colab-badge.svg\" alt=\"Open In Colab\"/></a>"
      ]
    },
    {
      "cell_type": "code",
      "execution_count": 8,
      "metadata": {
        "colab": {
          "base_uri": "https://localhost:8080/"
        },
        "id": "tHa0RgDm2WYZ",
        "outputId": "4fa1c4c3-d785-4e4c-9b88-784aca552d85"
      },
      "outputs": [
        {
          "output_type": "stream",
          "name": "stdout",
          "text": [
            "Requirement already satisfied: fastapi in /usr/local/lib/python3.11/dist-packages (0.115.12)\n",
            "Requirement already satisfied: uvicorn in /usr/local/lib/python3.11/dist-packages (0.34.3)\n",
            "Requirement already satisfied: joblib in /usr/local/lib/python3.11/dist-packages (1.5.1)\n",
            "Requirement already satisfied: scikit-learn in /usr/local/lib/python3.11/dist-packages (1.6.1)\n",
            "Requirement already satisfied: numpy in /usr/local/lib/python3.11/dist-packages (2.0.2)\n",
            "Collecting pyngrok\n",
            "  Downloading pyngrok-7.2.11-py3-none-any.whl.metadata (9.4 kB)\n",
            "Requirement already satisfied: starlette<0.47.0,>=0.40.0 in /usr/local/lib/python3.11/dist-packages (from fastapi) (0.46.2)\n",
            "Requirement already satisfied: pydantic!=1.8,!=1.8.1,!=2.0.0,!=2.0.1,!=2.1.0,<3.0.0,>=1.7.4 in /usr/local/lib/python3.11/dist-packages (from fastapi) (2.11.5)\n",
            "Requirement already satisfied: typing-extensions>=4.8.0 in /usr/local/lib/python3.11/dist-packages (from fastapi) (4.14.0)\n",
            "Requirement already satisfied: click>=7.0 in /usr/local/lib/python3.11/dist-packages (from uvicorn) (8.2.1)\n",
            "Requirement already satisfied: h11>=0.8 in /usr/local/lib/python3.11/dist-packages (from uvicorn) (0.16.0)\n",
            "Requirement already satisfied: scipy>=1.6.0 in /usr/local/lib/python3.11/dist-packages (from scikit-learn) (1.15.3)\n",
            "Requirement already satisfied: threadpoolctl>=3.1.0 in /usr/local/lib/python3.11/dist-packages (from scikit-learn) (3.6.0)\n",
            "Requirement already satisfied: PyYAML>=5.1 in /usr/local/lib/python3.11/dist-packages (from pyngrok) (6.0.2)\n",
            "Requirement already satisfied: annotated-types>=0.6.0 in /usr/local/lib/python3.11/dist-packages (from pydantic!=1.8,!=1.8.1,!=2.0.0,!=2.0.1,!=2.1.0,<3.0.0,>=1.7.4->fastapi) (0.7.0)\n",
            "Requirement already satisfied: pydantic-core==2.33.2 in /usr/local/lib/python3.11/dist-packages (from pydantic!=1.8,!=1.8.1,!=2.0.0,!=2.0.1,!=2.1.0,<3.0.0,>=1.7.4->fastapi) (2.33.2)\n",
            "Requirement already satisfied: typing-inspection>=0.4.0 in /usr/local/lib/python3.11/dist-packages (from pydantic!=1.8,!=1.8.1,!=2.0.0,!=2.0.1,!=2.1.0,<3.0.0,>=1.7.4->fastapi) (0.4.1)\n",
            "Requirement already satisfied: anyio<5,>=3.6.2 in /usr/local/lib/python3.11/dist-packages (from starlette<0.47.0,>=0.40.0->fastapi) (4.9.0)\n",
            "Requirement already satisfied: idna>=2.8 in /usr/local/lib/python3.11/dist-packages (from anyio<5,>=3.6.2->starlette<0.47.0,>=0.40.0->fastapi) (3.10)\n",
            "Requirement already satisfied: sniffio>=1.1 in /usr/local/lib/python3.11/dist-packages (from anyio<5,>=3.6.2->starlette<0.47.0,>=0.40.0->fastapi) (1.3.1)\n",
            "Downloading pyngrok-7.2.11-py3-none-any.whl (25 kB)\n",
            "Installing collected packages: pyngrok\n",
            "Successfully installed pyngrok-7.2.11\n"
          ]
        }
      ],
      "source": [
        "!pip install fastapi uvicorn joblib scikit-learn numpy pyngrok"
      ]
    },
    {
      "cell_type": "code",
      "source": [
        "import pandas as pd\n",
        "from sklearn.ensemble import RandomForestClassifier\n",
        "import joblib\n",
        "\n",
        "# تحميل البيانات\n",
        "df = pd.read_csv(\"/content/Soil Fertility Data (Modified Data).csv\")\n",
        "\n",
        "# فصل الميزات والهدف\n",
        "X = df.drop(\"fertility\", axis=1)\n",
        "y = df[\"fertility\"]\n",
        "\n",
        "# تدريب النموذج\n",
        "model = RandomForestClassifier()\n",
        "model.fit(X, y)\n",
        "\n",
        "# حفظ النموذج\n",
        "joblib.dump(model, \"model.joblib\")\n"
      ],
      "metadata": {
        "colab": {
          "base_uri": "https://localhost:8080/"
        },
        "id": "Da1YUx1O2aJ4",
        "outputId": "07213c76-f8d8-447d-d841-e8b619bcbc16"
      },
      "execution_count": 2,
      "outputs": [
        {
          "output_type": "execute_result",
          "data": {
            "text/plain": [
              "['model.joblib']"
            ]
          },
          "metadata": {},
          "execution_count": 2
        }
      ]
    },
    {
      "cell_type": "code",
      "source": [
        "%%writefile main.py\n",
        "from fastapi import FastAPI\n",
        "from pydantic import BaseModel\n",
        "import numpy as np\n",
        "import joblib\n",
        "\n",
        "app = FastAPI()\n",
        "\n",
        "model = joblib.load(\"model.joblib\")\n",
        "\n",
        "class SoilInput(BaseModel):\n",
        "    data: list[list[float]]\n",
        "\n",
        "@app.post(\"/predict\")\n",
        "def predict(input: SoilInput):\n",
        "    prediction = model.predict(np.array(input.data))\n",
        "    return {\"prediction\": \"✅ خصبة\" if prediction[0] == 1  else \"❌ منخفضة الخصوبة\"}\n"
      ],
      "metadata": {
        "colab": {
          "base_uri": "https://localhost:8080/"
        },
        "id": "bjy8NBqv2jrl",
        "outputId": "a67f550e-2bbf-42b9-d52c-4908e7724bb0"
      },
      "execution_count": 3,
      "outputs": [
        {
          "output_type": "stream",
          "name": "stdout",
          "text": [
            "Writing main.py\n"
          ]
        }
      ]
    },
    {
      "cell_type": "code",
      "source": [
        "%%writefile main.py\n",
        "from fastapi import FastAPI\n",
        "from pydantic import BaseModel\n",
        "import numpy as np\n",
        "import joblib\n",
        "\n",
        "app = FastAPI()\n",
        "\n",
        "model = joblib.load(\"model.joblib\")\n",
        "\n",
        "class SoilInput(BaseModel):\n",
        "    data: list[list[float]]\n",
        "\n",
        "@app.post(\"/predict\")\n",
        "def predict(input: SoilInput):\n",
        "    prediction = model.predict(np.array(input.data))\n",
        "    label = prediction[0]\n",
        "\n",
        "    if label == 2:\n",
        "        result = \"عاليةالخصوبة\"\n",
        "    elif label == 1:\n",
        "        result = \" متوسطة الخصوبة\"\n",
        "    elif label==0:\n",
        "        result = \" منخفضة الخصوبة\"\n",
        "\n",
        "    return {\"prediction\": result}\n"
      ],
      "metadata": {
        "colab": {
          "base_uri": "https://localhost:8080/"
        },
        "id": "z0qc3wmQ5Gqq",
        "outputId": "6e7dfab2-3735-456c-c2e0-b82c9501ed31"
      },
      "execution_count": 4,
      "outputs": [
        {
          "output_type": "stream",
          "name": "stdout",
          "text": [
            "Overwriting main.py\n"
          ]
        }
      ]
    },
    {
      "cell_type": "code",
      "source": [
        "from pyngrok import ngrok\n",
        "import uvicorn\n",
        "import threading\n",
        "\n",
        "# ngrok token\n",
        "ngrok.set_auth_token(\"2xTO5mCUa8H5ldaaNlfaHb9pYCD_2Bngk9ZUYVTL7RNQLZ3cB\")\n",
        "ngrok.kill()\n",
        "# بدء النفق على البورت 8000\n",
        "public_url = ngrok.connect(8000)\n",
        "print(\"🔗 رابط الواجهة الخارجية:\", public_url)\n",
        "\n",
        "# تشغيل uvicorn في الخلفية\n",
        "def run():\n",
        "    uvicorn.run(\"main:app\", host=\"0.0.0.0\", port=8000)\n",
        "\n",
        "thread = threading.Thread(target=run)\n",
        "thread.start()\n"
      ],
      "metadata": {
        "colab": {
          "base_uri": "https://localhost:8080/"
        },
        "id": "DzTeud372pS_",
        "outputId": "bfb3595c-ef8a-40d6-8cd7-8b26f86d0dee"
      },
      "execution_count": 9,
      "outputs": [
        {
          "output_type": "stream",
          "name": "stdout",
          "text": [
            "🔗 رابط الواجهة الخارجية: NgrokTunnel: \"https://5ddb-35-237-187-17.ngrok-free.app\" -> \"http://localhost:8000\"\n"
          ]
        }
      ]
    },
    {
      "cell_type": "markdown",
      "source": [],
      "metadata": {
        "id": "gvq3eFcxBTcm"
      }
    },
    {
      "cell_type": "code",
      "source": [
        "from fastapi import FastAPI\n",
        "from fastapi.middleware.cors import CORSMiddleware\n",
        "from pydantic import BaseModel\n",
        "import numpy as np\n",
        "import joblib\n",
        "\n",
        "app = FastAPI()\n",
        "\n",
        "# إضافة Middleware لدعم CORS (مهم لتسمح لتطبيق Flutter بالاتصال)\n",
        "app.add_middleware(\n",
        "    CORSMiddleware,\n",
        "    allow_origins=[\"*\"],  # يمكنك تخصيص الرابط الخاص بتطبيق Flutter هنا بدل \"*\"\n",
        "    allow_credentials=True,\n",
        "    allow_methods=[\"*\"],\n",
        "    allow_headers=[\"*\"],\n",
        ")\n",
        "\n",
        "model = joblib.load(\"model.joblib\")\n",
        "\n",
        "class SoilInput(BaseModel):\n",
        "    data: list[list[float]]\n",
        "\n",
        "@app.post(\"/predict\")\n",
        "def predict(input: SoilInput):\n",
        "    prediction = model.predict(np.array(input.data))\n",
        "    label = prediction[0]\n",
        "\n",
        "    if label == 2:\n",
        "        result = \"عاليةالخصوبة\"\n",
        "    elif label == 1:\n",
        "        result = \"متوسطة الخصوبة\"\n",
        "    elif label == 0:\n",
        "        result = \"منخفضة الخصوبة\"\n",
        "    else:\n",
        "        result = \"نتيجة غير معروفة\"\n",
        "\n",
        "    return {\"prediction\": result}\n",
        "\n",
        "from pyngrok import ngrok\n",
        "import uvicorn\n",
        "import threading\n",
        "\n",
        "# ضع هنا التوكن الخاص بـ ngrok\n",
        "ngrok.set_auth_token(\"2xTO5mCUa8H5ldaaNlfaHb9pYCD_2Bngk9ZUYVTL7RNQLZ3cB\")\n",
        "\n",
        "# إغلاق أي نفق مفتوح سابقاً\n",
        "ngrok.kill()\n",
        "\n",
        "# فتح نفق ngrok على البورت 8000 (بورت تشغيل الـ FastAPI)\n",
        "public_url = ngrok.connect(8000)\n",
        "print(f\"🔗 رابط الواجهة الخارجية: {public_url}\")\n",
        "\n",
        "# تشغيل uvicorn في خيط منفصل ليعمل السيرفر مع إمكانية استمرار تنفيذ باقي الكود\n",
        "def run():\n",
        "    uvicorn.run(\"main:app\", host=\"0.0.0.0\", port=8000)\n",
        "\n",
        "thread = threading.Thread(target=run, daemon=True)\n",
        "thread.start()\n"
      ],
      "metadata": {
        "colab": {
          "base_uri": "https://localhost:8080/"
        },
        "id": "J_IHVIRP2wsq",
        "outputId": "71daaaf1-dcad-4379-9051-5f229f7f2356"
      },
      "execution_count": 11,
      "outputs": [
        {
          "output_type": "stream",
          "name": "stdout",
          "text": [
            "🔗 رابط الواجهة الخارجية: NgrokTunnel: \"https://75db-35-237-187-17.ngrok-free.app\" -> \"http://localhost:8000\"\n"
          ]
        }
      ]
    },
    {
      "cell_type": "code",
      "source": [],
      "metadata": {
        "id": "ro_RHWzzMMKa"
      },
      "execution_count": null,
      "outputs": []
    }
  ]
}